{
 "cells": [
  {
   "cell_type": "code",
   "execution_count": 4,
   "id": "fa520d34-546d-48bf-b29e-89b4a2e12500",
   "metadata": {},
   "outputs": [
    {
     "ename": "ModuleNotFoundError",
     "evalue": "No module named 'sagemaker'",
     "output_type": "error",
     "traceback": [
      "\u001b[1;31m---------------------------------------------------------------------------\u001b[0m",
      "\u001b[1;31mModuleNotFoundError\u001b[0m                       Traceback (most recent call last)",
      "Cell \u001b[1;32mIn[4], line 2\u001b[0m\n\u001b[0;32m      1\u001b[0m \u001b[38;5;28;01mimport\u001b[39;00m \u001b[38;5;21;01mboto3\u001b[39;00m\n\u001b[1;32m----> 2\u001b[0m \u001b[38;5;28;01mimport\u001b[39;00m \u001b[38;5;21;01msagemaker\u001b[39;00m\n\u001b[0;32m      3\u001b[0m \u001b[38;5;28;01mfrom\u001b[39;00m \u001b[38;5;21;01msagemaker\u001b[39;00m \u001b[38;5;28;01mimport\u001b[39;00m get_execution_role\n\u001b[0;32m      5\u001b[0m \u001b[38;5;66;03m# SageMaker 세션 및 역할 설정\u001b[39;00m\n",
      "\u001b[1;31mModuleNotFoundError\u001b[0m: No module named 'sagemaker'"
     ]
    }
   ],
   "source": [
    "import boto3\n",
    "import sagemaker\n",
    "from sagemaker import get_execution_role\n",
    "\n",
    "# SageMaker 세션 및 역할 설정\n",
    "session = sagemaker.Session()\n",
    "role = get_execution_role()\n",
    "\n",
    "# S3 버킷 및 데이터셋 경로 설정\n",
    "bucket = 'my-s3-bucket'\n",
    "prefix = 'autopilot-demo'\n",
    "input_data = f's3://{bucket}/{prefix}/data.csv'\n",
    "output_data = f's3://{bucket}/{prefix}/output'\n",
    "\n",
    "# SageMaker Autopilot 설정\n",
    "sm_client = boto3.client('sagemaker')\n",
    "auto_ml_job_name = 'autopilot-demo'\n",
    "\n",
    "# Autopilot 작업 생성\n",
    "response = sm_client.create_auto_ml_job(\n",
    "    AutoMLJobName=auto_ml_job_name,\n",
    "    InputDataConfig=[\n",
    "        {\n",
    "            'DataSource': {\n",
    "                'S3DataSource': {\n",
    "                    'S3DataType': 'S3Prefix',\n",
    "                    'S3Uri': input_data\n",
    "                }\n",
    "            },\n",
    "            'TargetAttributeName': 'target_column_name',\n",
    "            'ContentType': 'text/csv'\n",
    "        }\n",
    "    ],\n",
    "    OutputDataConfig={\n",
    "        'S3OutputPath': output_data\n",
    "    },\n",
    "    ProblemType='BinaryClassification',\n",
    "    RoleArn=role,\n",
    "    AutoMLJobConfig={\n",
    "        'CompletionCriteria': {\n",
    "            'MaxRuntimePerTrainingJobInSeconds': 3600,\n",
    "            'MaxAutoMLJobRuntimeInSeconds': 86400,\n",
    "        }\n",
    "    }\n",
    ")\n",
    "\n",
    "print(f'Created Autopilot job with name: {auto_ml_job_name}')\n",
    "\n",
    "\n",
    "import time\n",
    "\n",
    "# Autopilot 작업 상태 확인\n",
    "describe_response = sm_client.describe_auto_ml_job(AutoMLJobName=auto_ml_job_name)\n",
    "status = describe_response['AutoMLJobStatus']\n",
    "while status not in ['Completed', 'Failed', 'Stopped']:\n",
    "    print(f'Current status: {status}')\n",
    "    time.sleep(60)\n",
    "    describe_response = sm_client.describe_auto_ml_job(AutoMLJobName=auto_ml_job_name)\n",
    "    status = describe_response['AutoMLJobStatus']\n",
    "\n",
    "print(f'Autopilot job finished with status: {status}')\n",
    "\n",
    "# 결과 조회\n",
    "best_candidate = describe_response['BestCandidate']\n",
    "print(f'Best candidate name: {best_candidate[\"CandidateName\"]}')\n",
    "print(f'Best candidate metrics: {best_candidate[\"FinalAutoMLJobObjectiveMetric\"][\"MetricValue\"]}')\n"
   ]
  },
  {
   "cell_type": "code",
   "execution_count": 2,
   "id": "f5863d6c-e26e-430a-a70d-2e587bf122bb",
   "metadata": {},
   "outputs": [
    {
     "name": "stdout",
     "output_type": "stream",
     "text": [
      "Retrieving notices: ...working... done\n",
      "Channels:\n",
      " - defaults\n",
      "Platform: win-64\n",
      "Collecting package metadata (repodata.json): ...working... done\n",
      "Solving environment: ...working... failed\n"
     ]
    },
    {
     "name": "stderr",
     "output_type": "stream",
     "text": [
      "\n",
      "PackagesNotFoundError: The following packages are not available from current channels:\n",
      "\n",
      "  - sagemaker\n",
      "\n",
      "Current channels:\n",
      "\n",
      "  - defaults\n",
      "\n",
      "To search for alternate channels that may provide the conda package you're\n",
      "looking for, navigate to\n",
      "\n",
      "    https://anaconda.org\n",
      "\n",
      "and use the search bar at the top of the page.\n",
      "\n",
      "\n"
     ]
    }
   ],
   "source": [
    "!conda install sagemaker"
   ]
  },
  {
   "cell_type": "code",
   "execution_count": 5,
   "id": "630311af-af7b-47a3-b002-51ebcea488be",
   "metadata": {},
   "outputs": [
    {
     "ename": "NameError",
     "evalue": "name 'sm_client' is not defined",
     "output_type": "error",
     "traceback": [
      "\u001b[1;31m---------------------------------------------------------------------------\u001b[0m",
      "\u001b[1;31mNameError\u001b[0m                                 Traceback (most recent call last)",
      "Cell \u001b[1;32mIn[5], line 4\u001b[0m\n\u001b[0;32m      1\u001b[0m \u001b[38;5;28;01mimport\u001b[39;00m \u001b[38;5;21;01mtime\u001b[39;00m\n\u001b[0;32m      3\u001b[0m \u001b[38;5;66;03m# Autopilot 작업 상태 확인\u001b[39;00m\n\u001b[1;32m----> 4\u001b[0m describe_response \u001b[38;5;241m=\u001b[39m \u001b[43msm_client\u001b[49m\u001b[38;5;241m.\u001b[39mdescribe_auto_ml_job(AutoMLJobName\u001b[38;5;241m=\u001b[39mauto_ml_job_name)\n\u001b[0;32m      5\u001b[0m status \u001b[38;5;241m=\u001b[39m describe_response[\u001b[38;5;124m'\u001b[39m\u001b[38;5;124mAutoMLJobStatus\u001b[39m\u001b[38;5;124m'\u001b[39m]\n\u001b[0;32m      6\u001b[0m \u001b[38;5;28;01mwhile\u001b[39;00m status \u001b[38;5;129;01mnot\u001b[39;00m \u001b[38;5;129;01min\u001b[39;00m [\u001b[38;5;124m'\u001b[39m\u001b[38;5;124mCompleted\u001b[39m\u001b[38;5;124m'\u001b[39m, \u001b[38;5;124m'\u001b[39m\u001b[38;5;124mFailed\u001b[39m\u001b[38;5;124m'\u001b[39m, \u001b[38;5;124m'\u001b[39m\u001b[38;5;124mStopped\u001b[39m\u001b[38;5;124m'\u001b[39m]:\n",
      "\u001b[1;31mNameError\u001b[0m: name 'sm_client' is not defined"
     ]
    }
   ],
   "source": [
    "import time\n",
    "\n",
    "# Autopilot 작업 상태 확인\n",
    "describe_response = sm_client.describe_auto_ml_job(AutoMLJobName=auto_ml_job_name)\n",
    "status = describe_response['AutoMLJobStatus']\n",
    "while status not in ['Completed', 'Failed', 'Stopped']:\n",
    "    print(f'Current status: {status}')\n",
    "    time.sleep(60)\n",
    "    describe_response = sm_client.describe_auto_ml_job(AutoMLJobName=auto_ml_job_name)\n",
    "    status = describe_response['AutoMLJobStatus']\n",
    "\n",
    "print(f'Autopilot job finished with status: {status}')\n",
    "\n",
    "# 결과 조회\n",
    "best_candidate = describe_response['BestCandidate']\n",
    "print(f'Best candidate name: {best_candidate[\"CandidateName\"]}')\n",
    "print(f'Best candidate metrics: {best_candidate[\"FinalAutoMLJobObjectiveMetric\"][\"MetricValue\"]}')\n"
   ]
  },
  {
   "cell_type": "code",
   "execution_count": null,
   "id": "37f55ed9-28ed-44db-9aac-dc02433cf17d",
   "metadata": {},
   "outputs": [],
   "source": []
  }
 ],
 "metadata": {
  "kernelspec": {
   "display_name": "Python 3 (ipykernel)",
   "language": "python",
   "name": "python3"
  },
  "language_info": {
   "codemirror_mode": {
    "name": "ipython",
    "version": 3
   },
   "file_extension": ".py",
   "mimetype": "text/x-python",
   "name": "python",
   "nbconvert_exporter": "python",
   "pygments_lexer": "ipython3",
   "version": "3.11.7"
  }
 },
 "nbformat": 4,
 "nbformat_minor": 5
}
